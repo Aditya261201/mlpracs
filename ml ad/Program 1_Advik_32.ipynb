{
 "cells": [
  {
   "cell_type": "code",
   "execution_count": 1,
   "id": "453cc157",
   "metadata": {},
   "outputs": [
    {
     "name": "stdout",
     "output_type": "stream",
     "text": [
      "Array of all ones(size=6):  [1. 1. 1. 1. 1. 1.]\n"
     ]
    }
   ],
   "source": [
    "#Program 1- Arrays and matrices\n",
    "\n",
    "#(a) Create arrays with specific values:\n",
    "\n",
    "# (i) array of all ones\n",
    "import numpy as np\n",
    "arr_ones = np.ones(6)\n",
    "print(\"Array of all ones(size=6): \", arr_ones)"
   ]
  },
  {
   "cell_type": "code",
   "execution_count": 2,
   "id": "04cbae15",
   "metadata": {},
   "outputs": [
    {
     "name": "stdout",
     "output_type": "stream",
     "text": [
      "Array of all zeros(size=6):  [0. 0. 0. 0. 0. 0.]\n"
     ]
    }
   ],
   "source": [
    "# (ii) array of all zeros\n",
    "arr_zeros = np.zeros(6)\n",
    "print(\"Array of all zeros(size=6): \", arr_zeros)"
   ]
  },
  {
   "cell_type": "code",
   "execution_count": 7,
   "id": "76813a7e",
   "metadata": {},
   "outputs": [
    {
     "name": "stdout",
     "output_type": "stream",
     "text": [
      "A 4x5 Array with random values within the range 1-100: \n",
      " [[45 32 40 90 68]\n",
      " [37 95 11 52 12]\n",
      " [92 79 76 73 41]\n",
      " [69 59 63 21 91]]\n"
     ]
    }
   ],
   "source": [
    "# (iii) array with random values within a range\n",
    "arr_random = np.random.randint(1,100, (4,5))        #randint function of random package generates random integers\n",
    "print(\"A 4x5 Array with random values within the range 1-100: \\n\", arr_random)"
   ]
  },
  {
   "cell_type": "code",
   "execution_count": 10,
   "id": "d5ddfcb0",
   "metadata": {},
   "outputs": [
    {
     "name": "stdout",
     "output_type": "stream",
     "text": [
      "Diagonal matrix: \n",
      " [[1 0 0 0]\n",
      " [0 2 0 0]\n",
      " [0 0 3 0]\n",
      " [0 0 0 4]]\n"
     ]
    }
   ],
   "source": [
    "# (iv) a diagonal matrix\n",
    "v = [1,2,3,4]\n",
    "print(\"Diagonal matrix: \\n\", np.diag(v))           #np.diag() takes a list of values and arranges them as a diagonal in a matrix"
   ]
  },
  {
   "cell_type": "code",
   "execution_count": 59,
   "id": "75605bd9",
   "metadata": {},
   "outputs": [
    {
     "data": {
      "text/plain": [
       "array([[ 0.04998671,  0.63402517, -0.62105265],\n",
       "       [-1.47940099,  0.48424899, -0.82886212],\n",
       "       [ 0.87245699,  2.06817737,  0.30184584],\n",
       "       [-0.46942011, -0.24547182,  1.15929182]])"
      ]
     },
     "execution_count": 59,
     "metadata": {},
     "output_type": "execute_result"
    }
   ],
   "source": [
    "# (b) Perform other matrix operations:\n",
    "arr = np.array(np.random.randn(12)).reshape(4,3)\n",
    "arr"
   ]
  },
  {
   "cell_type": "code",
   "execution_count": 60,
   "id": "2af45bf9",
   "metadata": {},
   "outputs": [
    {
     "name": "stdout",
     "output_type": "stream",
     "text": [
      "Array of absolute values: \n",
      " [[0.04998671 0.63402517 0.62105265]\n",
      " [1.47940099 0.48424899 0.82886212]\n",
      " [0.87245699 2.06817737 0.30184584]\n",
      " [0.46942011 0.24547182 1.15929182]]\n"
     ]
    }
   ],
   "source": [
    "# (i) convert matrix data to absolute values\n",
    "print(\"Array of absolute values: \\n\", np.absolute(arr))"
   ]
  },
  {
   "cell_type": "code",
   "execution_count": 61,
   "id": "71c86421",
   "metadata": {},
   "outputs": [
    {
     "name": "stdout",
     "output_type": "stream",
     "text": [
      "Negative of matrix values: \n",
      " [[-0.04998671 -0.63402517  0.62105265]\n",
      " [ 1.47940099 -0.48424899  0.82886212]\n",
      " [-0.87245699 -2.06817737 -0.30184584]\n",
      " [ 0.46942011  0.24547182 -1.15929182]]\n"
     ]
    }
   ],
   "source": [
    "# (ii) take the negative of matrix values\n",
    "print(\"Negative of matrix values: \\n\", arr * -1 )"
   ]
  },
  {
   "cell_type": "code",
   "execution_count": 70,
   "id": "306fb016",
   "metadata": {},
   "outputs": [
    {
     "name": "stdout",
     "output_type": "stream",
     "text": [
      "New array with added column: \n",
      " [[ 0.04998671  0.63402517 -0.62105265  0.        ]\n",
      " [-1.47940099  0.48424899 -0.82886212  1.        ]\n",
      " [ 0.87245699  2.06817737  0.30184584  2.        ]\n",
      " [-0.46942011 -0.24547182  1.15929182  3.        ]]\n"
     ]
    }
   ],
   "source": [
    "# (iii) add rows & columns to a matrix\n",
    "column = np.array([[0],[1],[2],[3]])                  #adding a column\n",
    "arr_col = np.append(arr, column, axis=1)\n",
    "print(\"New array with added column: \\n\", arr_col)"
   ]
  },
  {
   "cell_type": "code",
   "execution_count": 69,
   "id": "311e11a8",
   "metadata": {},
   "outputs": [
    {
     "name": "stdout",
     "output_type": "stream",
     "text": [
      "New array with added row: \n",
      " [[ 0.04998671  0.63402517 -0.62105265]\n",
      " [-1.47940099  0.48424899 -0.82886212]\n",
      " [ 0.87245699  2.06817737  0.30184584]\n",
      " [-0.46942011 -0.24547182  1.15929182]\n",
      " [ 0.          1.          2.        ]]\n"
     ]
    }
   ],
   "source": [
    "row = np.array([[0,1,2]])                             #adding a row\n",
    "arr_row = np.append(arr, row, axis=0)       \n",
    "print(\"New array with added row: \\n\", arr_row)"
   ]
  },
  {
   "cell_type": "code",
   "execution_count": 83,
   "id": "0eb185ff",
   "metadata": {},
   "outputs": [
    {
     "name": "stdout",
     "output_type": "stream",
     "text": [
      "Removing second row: \n",
      " [[ 0.04998671  0.63402517 -0.62105265]\n",
      " [ 0.87245699  2.06817737  0.30184584]\n",
      " [-0.46942011 -0.24547182  1.15929182]]\n"
     ]
    }
   ],
   "source": [
    "# (iv) remove rows & columns from a matrix\n",
    "print(\"Removing second row: \\n\", np.delete(arr, 1, 0))                             #deleting second row"
   ]
  },
  {
   "cell_type": "code",
   "execution_count": 84,
   "id": "97634e79",
   "metadata": {},
   "outputs": [
    {
     "name": "stdout",
     "output_type": "stream",
     "text": [
      "Removing first column: \n",
      " [[ 0.63402517 -0.62105265]\n",
      " [ 0.48424899 -0.82886212]\n",
      " [ 2.06817737  0.30184584]\n",
      " [-0.24547182  1.15929182]]\n"
     ]
    }
   ],
   "source": [
    "print(\"Removing first column: \\n\", np.delete(arr, 0, 1))                           #deleting first column"
   ]
  },
  {
   "cell_type": "code",
   "execution_count": 77,
   "id": "4c83e855",
   "metadata": {},
   "outputs": [
    {
     "data": {
      "text/plain": [
       "array([-0.62105265, -1.47940099,  0.30184584, -0.46942011])"
      ]
     },
     "execution_count": 77,
     "metadata": {},
     "output_type": "execute_result"
    }
   ],
   "source": [
    "# (v) find the maximum and  minimum values in a matrix or in a row/column\n",
    "arr.min(axis=1)                                  #minimum value in each row"
   ]
  },
  {
   "cell_type": "code",
   "execution_count": 79,
   "id": "8455c601",
   "metadata": {},
   "outputs": [
    {
     "data": {
      "text/plain": [
       "array([0.87245699, 2.06817737, 1.15929182])"
      ]
     },
     "execution_count": 79,
     "metadata": {},
     "output_type": "execute_result"
    }
   ],
   "source": [
    "arr.max(axis=0)                                  #maximum value in each column"
   ]
  },
  {
   "cell_type": "code",
   "execution_count": 80,
   "id": "9da5d4f1",
   "metadata": {},
   "outputs": [
    {
     "name": "stdout",
     "output_type": "stream",
     "text": [
      "Maximum value in the matrix=  2.068177372426769\n",
      "Minimum value in the matrix=  -1.4794009863808495\n"
     ]
    }
   ],
   "source": [
    "print(\"Maximum value in the matrix= \", arr.max())        #max value of matrix\n",
    "print(\"Minimum value in the matrix= \", arr.min())        #min value of matrix"
   ]
  },
  {
   "cell_type": "code",
   "execution_count": 82,
   "id": "6e3c099c",
   "metadata": {},
   "outputs": [
    {
     "name": "stdout",
     "output_type": "stream",
     "text": [
      "Sum of elements in each row:  [ 0.06295922 -1.82401413  3.24248021  0.44439989]\n",
      "Sum of elements in each column:  [-1.0263774   2.94097971  0.01122289]\n",
      "Sum of all elements:  1.9258251922288072\n"
     ]
    }
   ],
   "source": [
    "# (vi) find the sum of some/all elements in a matrix\n",
    "x = arr.sum(axis=1)\n",
    "y = arr.sum(axis=0)\n",
    "z = arr.sum()\n",
    "print(\"Sum of elements in each row: \", x)\n",
    "print(\"Sum of elements in each column: \", y)\n",
    "print(\"Sum of all elements: \", z)"
   ]
  }
 ],
 "metadata": {
  "kernelspec": {
   "display_name": "Python 3 (ipykernel)",
   "language": "python",
   "name": "python3"
  },
  "language_info": {
   "codemirror_mode": {
    "name": "ipython",
    "version": 3
   },
   "file_extension": ".py",
   "mimetype": "text/x-python",
   "name": "python",
   "nbconvert_exporter": "python",
   "pygments_lexer": "ipython3",
   "version": "3.10.5"
  }
 },
 "nbformat": 4,
 "nbformat_minor": 5
}
