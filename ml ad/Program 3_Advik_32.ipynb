{
 "cells": [
  {
   "cell_type": "code",
   "execution_count": null,
   "id": "d52f1a86",
   "metadata": {},
   "outputs": [],
   "source": [
    "#Name: Advik Sharma\n",
    "#Class Roll No.: CSC/20/32\n",
    "#University Roll No.: 20059570024\n",
    "\n",
    "#PROGRAM 3: Matrices"
   ]
  },
  {
   "cell_type": "code",
   "execution_count": 17,
   "id": "57de1f40",
   "metadata": {},
   "outputs": [
    {
     "name": "stdout",
     "output_type": "stream",
     "text": [
      "The two matrices are as follows: \n",
      " [[ 0 -1  0]\n",
      " [ 2  0  0]\n",
      " [ 0 -1  0]] and\n",
      " [[19 16  1]\n",
      " [19 13 19]\n",
      " [12 22 18]]\n"
     ]
    }
   ],
   "source": [
    "# (a) Perform basic operations on matrices:\n",
    "\n",
    "# (i) addition of 2 matrices\n",
    "import numpy as np\n",
    "arr1 = np.array(np.random.randn(9), dtype='int32').reshape(3,3)\n",
    "arr2 = np.array(np.random.randint(1,25,(3,3)))\n",
    "print(\"The two matrices are as follows: \\n\", arr1, \"and\\n\", arr2)"
   ]
  },
  {
   "cell_type": "code",
   "execution_count": 19,
   "id": "d692cf60",
   "metadata": {},
   "outputs": [
    {
     "name": "stdout",
     "output_type": "stream",
     "text": [
      "Addition of the two matrices: \n",
      " [[19 15  1]\n",
      " [21 13 19]\n",
      " [12 21 18]]\n"
     ]
    }
   ],
   "source": [
    "addition = arr1 + arr2\n",
    "print(\"Addition of the two matrices: \\n\", addition)"
   ]
  },
  {
   "cell_type": "code",
   "execution_count": 20,
   "id": "fc43ce5b",
   "metadata": {},
   "outputs": [
    {
     "name": "stdout",
     "output_type": "stream",
     "text": [
      "Subtraction of the two matrices: \n",
      " [[19 17  1]\n",
      " [17 13 19]\n",
      " [12 23 18]]\n"
     ]
    }
   ],
   "source": [
    "#  (ii) subtraction of 2 matrices\n",
    "subtraction = arr2 - arr1\n",
    "print(\"Subtraction of the two matrices: \\n\", subtraction)"
   ]
  },
  {
   "cell_type": "code",
   "execution_count": 21,
   "id": "b294d068",
   "metadata": {},
   "outputs": [
    {
     "name": "stdout",
     "output_type": "stream",
     "text": [
      "Multiplication of the two matrices: \n",
      " [[  0 -16   0]\n",
      " [ 38   0   0]\n",
      " [  0 -22   0]]\n"
     ]
    }
   ],
   "source": [
    "# (iii) multiplication of 2 matrices\n",
    "multiplication = arr1 * arr2\n",
    "print(\"Multiplication of the two matrices: \\n\", multiplication)"
   ]
  },
  {
   "cell_type": "code",
   "execution_count": 28,
   "id": "de31e70d",
   "metadata": {},
   "outputs": [
    {
     "name": "stdout",
     "output_type": "stream",
     "text": [
      "Transpose of the matrix: \n",
      " [[19 16  1]\n",
      " [19 13 19]\n",
      " [12 22 18]]  is\n",
      "\n",
      " [[19 19 12]\n",
      " [16 13 22]\n",
      " [ 1 19 18]]\n"
     ]
    }
   ],
   "source": [
    "#  (iv) find the transpose of a matrix\n",
    "transpose = arr2.T\n",
    "print(\"Transpose of the matrix: \\n\", arr2, \" is\\n\\n\", transpose)"
   ]
  },
  {
   "cell_type": "code",
   "execution_count": 48,
   "id": "5a10df00",
   "metadata": {},
   "outputs": [
    {
     "name": "stdout",
     "output_type": "stream",
     "text": [
      "First row of arr1 =  [ 0 -1  0]\n",
      "Second row of arr1 =  [2 0 0]\n",
      "Third row of arr1 =  [ 0 -1  0]\n",
      "\n",
      "\n",
      "First column of arr2 =  [19 19 12]\n",
      "Second column of arr2 =  [16 13 22]\n",
      "Third column of arr2 =  [ 1 19 18]\n"
     ]
    }
   ],
   "source": [
    "# (b) Display specific rows or columns of a matrix.\n",
    "print(\"First row of arr1 = \", arr1[0])\n",
    "print(\"Second row of arr1 = \", arr1[1])\n",
    "print(\"Third row of arr1 = \", arr1[2])\n",
    "print(\"\\n\")\n",
    "print(\"First column of arr2 = \", arr2[:, 0])\n",
    "print(\"Second column of arr2 = \", arr2[:, 1])\n",
    "print(\"Third column of arr2 = \", arr2[:, 2])"
   ]
  }
 ],
 "metadata": {
  "kernelspec": {
   "display_name": "Python 3 (ipykernel)",
   "language": "python",
   "name": "python3"
  },
  "language_info": {
   "codemirror_mode": {
    "name": "ipython",
    "version": 3
   },
   "file_extension": ".py",
   "mimetype": "text/x-python",
   "name": "python",
   "nbconvert_exporter": "python",
   "pygments_lexer": "ipython3",
   "version": "3.10.5"
  }
 },
 "nbformat": 4,
 "nbformat_minor": 5
}
